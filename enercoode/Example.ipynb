{
 "cells": [
  {
   "cell_type": "code",
   "execution_count": 1,
   "metadata": {},
   "outputs": [],
   "source": [
    "import pandas as pd\n",
    "\n",
    "from src.path import IPOPT_PATH\n",
    "import src.constants as cst\n",
    "import src.model as mod"
   ]
  },
  {
   "cell_type": "code",
   "execution_count": 2,
   "metadata": {},
   "outputs": [
    {
     "data": {
      "text/html": [
       "<div>\n",
       "<style scoped>\n",
       "    .dataframe tbody tr th:only-of-type {\n",
       "        vertical-align: middle;\n",
       "    }\n",
       "\n",
       "    .dataframe tbody tr th {\n",
       "        vertical-align: top;\n",
       "    }\n",
       "\n",
       "    .dataframe thead th {\n",
       "        text-align: right;\n",
       "    }\n",
       "</style>\n",
       "<table border=\"1\" class=\"dataframe\">\n",
       "  <thead>\n",
       "    <tr style=\"text-align: right;\">\n",
       "      <th></th>\n",
       "      <th>Clément</th>\n",
       "      <th>Maxence</th>\n",
       "      <th>Josiane</th>\n",
       "      <th>Jiminy</th>\n",
       "    </tr>\n",
       "  </thead>\n",
       "  <tbody>\n",
       "    <tr>\n",
       "      <th>Technicité</th>\n",
       "      <td>B</td>\n",
       "      <td>B</td>\n",
       "      <td>D</td>\n",
       "      <td>D</td>\n",
       "    </tr>\n",
       "    <tr>\n",
       "      <th>Autonomie</th>\n",
       "      <td>A</td>\n",
       "      <td>D</td>\n",
       "      <td>D</td>\n",
       "      <td>B</td>\n",
       "    </tr>\n",
       "    <tr>\n",
       "      <th>Exposition</th>\n",
       "      <td>D</td>\n",
       "      <td>D</td>\n",
       "      <td>A</td>\n",
       "      <td>A</td>\n",
       "    </tr>\n",
       "    <tr>\n",
       "      <th>Relations</th>\n",
       "      <td>C</td>\n",
       "      <td>D</td>\n",
       "      <td>B</td>\n",
       "      <td>A</td>\n",
       "    </tr>\n",
       "    <tr>\n",
       "      <th>Salaire</th>\n",
       "      <td>467</td>\n",
       "      <td>321</td>\n",
       "      <td>373</td>\n",
       "      <td>482</td>\n",
       "    </tr>\n",
       "  </tbody>\n",
       "</table>\n",
       "</div>"
      ],
      "text/plain": [
       "           Clément Maxence Josiane Jiminy\n",
       "Technicité       B       B       D      D\n",
       "Autonomie        A       D       D      B\n",
       "Exposition       D       D       A      A\n",
       "Relations        C       D       B      A\n",
       "Salaire        467     321     373    482"
      ]
     },
     "execution_count": 2,
     "metadata": {},
     "output_type": "execute_result"
    }
   ],
   "source": [
    "profiles = pd.DataFrame(\n",
    "    {\n",
    "        \"Clément\": {cst.TECH: cst.LVB, cst.AUT: cst.LVA, cst.EXP: cst.LVD, cst.REL: cst.LVC, cst.SLRY: 467},\n",
    "        \"Maxence\": {cst.TECH: cst.LVB, cst.AUT: cst.LVD, cst.EXP: cst.LVD, cst.REL: cst.LVD, cst.SLRY: 321},\n",
    "        \"Josiane\": {cst.TECH: cst.LVD, cst.AUT: cst.LVD, cst.EXP: cst.LVA, cst.REL: cst.LVB, cst.SLRY: 373},\n",
    "        \"Jiminy\": {cst.TECH: cst.LVD, cst.AUT: cst.LVB, cst.EXP: cst.LVA, cst.REL: cst.LVA, cst.SLRY: 482},\n",
    "    }\n",
    ")\n",
    "\n",
    "profiles"
   ]
  },
  {
   "cell_type": "code",
   "execution_count": 3,
   "metadata": {},
   "outputs": [
    {
     "data": {
      "text/html": [
       "<div>\n",
       "<style scoped>\n",
       "    .dataframe tbody tr th:only-of-type {\n",
       "        vertical-align: middle;\n",
       "    }\n",
       "\n",
       "    .dataframe tbody tr th {\n",
       "        vertical-align: top;\n",
       "    }\n",
       "\n",
       "    .dataframe thead th {\n",
       "        text-align: right;\n",
       "    }\n",
       "</style>\n",
       "<table border=\"1\" class=\"dataframe\">\n",
       "  <thead>\n",
       "    <tr style=\"text-align: right;\">\n",
       "      <th></th>\n",
       "      <th>Technicité</th>\n",
       "      <th>Autonomie</th>\n",
       "      <th>Exposition</th>\n",
       "      <th>Relations</th>\n",
       "    </tr>\n",
       "  </thead>\n",
       "  <tbody>\n",
       "    <tr>\n",
       "      <th>A</th>\n",
       "      <td>50</td>\n",
       "      <td>10</td>\n",
       "      <td>100</td>\n",
       "      <td>5</td>\n",
       "    </tr>\n",
       "    <tr>\n",
       "      <th>B</th>\n",
       "      <td>40</td>\n",
       "      <td>8</td>\n",
       "      <td>80</td>\n",
       "      <td>4</td>\n",
       "    </tr>\n",
       "    <tr>\n",
       "      <th>C</th>\n",
       "      <td>30</td>\n",
       "      <td>6</td>\n",
       "      <td>60</td>\n",
       "      <td>3</td>\n",
       "    </tr>\n",
       "    <tr>\n",
       "      <th>D</th>\n",
       "      <td>20</td>\n",
       "      <td>4</td>\n",
       "      <td>40</td>\n",
       "      <td>2</td>\n",
       "    </tr>\n",
       "  </tbody>\n",
       "</table>\n",
       "</div>"
      ],
      "text/plain": [
       "   Technicité  Autonomie  Exposition  Relations\n",
       "A          50         10         100          5\n",
       "B          40          8          80          4\n",
       "C          30          6          60          3\n",
       "D          20          4          40          2"
      ]
     },
     "execution_count": 3,
     "metadata": {},
     "output_type": "execute_result"
    }
   ],
   "source": [
    "weights = pd.DataFrame(\n",
    "    {\n",
    "        cst.TECH: {cst.LVA: 50, cst.LVB: 40, cst.LVC: 30, cst.LVD: 20},\n",
    "        cst.AUT: {cst.LVA: 10, cst.LVB: 8, cst.LVC: 6, cst.LVD: 4},\n",
    "        cst.EXP: {cst.LVA: 100, cst.LVB: 80, cst.LVC: 60, cst.LVD: 40},\n",
    "        cst.REL: {cst.LVA: 5, cst.LVB: 4, cst.LVC: 3, cst.LVD: 2},\n",
    "    }\n",
    ")\n",
    "\n",
    "weights"
   ]
  },
  {
   "cell_type": "markdown",
   "metadata": {},
   "source": [
    "### Model"
   ]
  },
  {
   "cell_type": "markdown",
   "metadata": {},
   "source": [
    "#### Solve Model"
   ]
  },
  {
   "cell_type": "code",
   "execution_count": 4,
   "metadata": {},
   "outputs": [
    {
     "name": "stdout",
     "output_type": "stream",
     "text": [
      "Error: 1.783909507990845e-16\n"
     ]
    },
    {
     "data": {
      "text/html": [
       "<div>\n",
       "<style scoped>\n",
       "    .dataframe tbody tr th:only-of-type {\n",
       "        vertical-align: middle;\n",
       "    }\n",
       "\n",
       "    .dataframe tbody tr th {\n",
       "        vertical-align: top;\n",
       "    }\n",
       "\n",
       "    .dataframe thead th {\n",
       "        text-align: right;\n",
       "    }\n",
       "</style>\n",
       "<table border=\"1\" class=\"dataframe\">\n",
       "  <thead>\n",
       "    <tr style=\"text-align: right;\">\n",
       "      <th></th>\n",
       "      <th>A</th>\n",
       "      <th>B</th>\n",
       "      <th>C</th>\n",
       "      <th>D</th>\n",
       "      <th>Gap</th>\n",
       "    </tr>\n",
       "  </thead>\n",
       "  <tbody>\n",
       "    <tr>\n",
       "      <th>Autonomie</th>\n",
       "      <td>163.762555</td>\n",
       "      <td>126.762555</td>\n",
       "      <td>89.762555</td>\n",
       "      <td>52.762555</td>\n",
       "      <td>37.000000</td>\n",
       "    </tr>\n",
       "    <tr>\n",
       "      <th>Exposition</th>\n",
       "      <td>105.483943</td>\n",
       "      <td>104.218636</td>\n",
       "      <td>102.953329</td>\n",
       "      <td>101.688022</td>\n",
       "      <td>1.265307</td>\n",
       "    </tr>\n",
       "    <tr>\n",
       "      <th>Relations</th>\n",
       "      <td>174.965874</td>\n",
       "      <td>139.965874</td>\n",
       "      <td>104.965873</td>\n",
       "      <td>69.965873</td>\n",
       "      <td>35.000000</td>\n",
       "    </tr>\n",
       "    <tr>\n",
       "      <th>Technicité</th>\n",
       "      <td>107.481510</td>\n",
       "      <td>96.583549</td>\n",
       "      <td>85.685589</td>\n",
       "      <td>74.787629</td>\n",
       "      <td>10.897960</td>\n",
       "    </tr>\n",
       "  </tbody>\n",
       "</table>\n",
       "</div>"
      ],
      "text/plain": [
       "                     A           B           C           D        Gap\n",
       "Autonomie   163.762555  126.762555   89.762555   52.762555  37.000000\n",
       "Exposition  105.483943  104.218636  102.953329  101.688022   1.265307\n",
       "Relations   174.965874  139.965874  104.965873   69.965873  35.000000\n",
       "Technicité  107.481510   96.583549   85.685589   74.787629  10.897960"
      ]
     },
     "execution_count": 4,
     "metadata": {},
     "output_type": "execute_result"
    }
   ],
   "source": [
    "weights_sol, obj = mod.solve_model(\n",
    "    skills=profiles.loc[cst.SKILLS],\n",
    "    salaries=profiles.loc[cst.SLRY],\n",
    "    levels=cst.LEVELS,\n",
    "    ipopt_path=IPOPT_PATH,\n",
    ")\n",
    "print(f\"Error: {obj}\")\n",
    "weights_sol"
   ]
  },
  {
   "cell_type": "markdown",
   "metadata": {},
   "source": [
    "### Check\n",
    "\n",
    "Can use 'compute-salary' function direclty to series"
   ]
  },
  {
   "cell_type": "code",
   "execution_count": 5,
   "metadata": {},
   "outputs": [
    {
     "data": {
      "text/html": [
       "<div>\n",
       "<style scoped>\n",
       "    .dataframe tbody tr th:only-of-type {\n",
       "        vertical-align: middle;\n",
       "    }\n",
       "\n",
       "    .dataframe tbody tr th {\n",
       "        vertical-align: top;\n",
       "    }\n",
       "\n",
       "    .dataframe thead th {\n",
       "        text-align: right;\n",
       "    }\n",
       "</style>\n",
       "<table border=\"1\" class=\"dataframe\">\n",
       "  <thead>\n",
       "    <tr style=\"text-align: right;\">\n",
       "      <th></th>\n",
       "      <th>Solution</th>\n",
       "      <th>Original</th>\n",
       "    </tr>\n",
       "  </thead>\n",
       "  <tbody>\n",
       "    <tr>\n",
       "      <th>Clément</th>\n",
       "      <td>467.0</td>\n",
       "      <td>467</td>\n",
       "    </tr>\n",
       "    <tr>\n",
       "      <th>Maxence</th>\n",
       "      <td>321.0</td>\n",
       "      <td>321</td>\n",
       "    </tr>\n",
       "    <tr>\n",
       "      <th>Josiane</th>\n",
       "      <td>373.0</td>\n",
       "      <td>373</td>\n",
       "    </tr>\n",
       "    <tr>\n",
       "      <th>Jiminy</th>\n",
       "      <td>482.0</td>\n",
       "      <td>482</td>\n",
       "    </tr>\n",
       "  </tbody>\n",
       "</table>\n",
       "</div>"
      ],
      "text/plain": [
       "         Solution Original\n",
       "Clément     467.0      467\n",
       "Maxence     321.0      321\n",
       "Josiane     373.0      373\n",
       "Jiminy      482.0      482"
      ]
     },
     "execution_count": 5,
     "metadata": {},
     "output_type": "execute_result"
    }
   ],
   "source": [
    "from_sol = pd.Series(\n",
    "    {\n",
    "        per: mod.compute_salary(profile=val[cst.SKILLS], weights=weights_sol)\n",
    "        for per, val in profiles.items()\n",
    "    }\n",
    ")\n",
    "\n",
    "pd.concat([from_sol, profiles.loc[cst.SLRY]], axis=1, keys=[\"Solution\", \"Original\"])"
   ]
  },
  {
   "cell_type": "markdown",
   "metadata": {},
   "source": [
    "Some specific values can be fixed, however if too many constraints are added, the problem might become infeasible"
   ]
  },
  {
   "cell_type": "markdown",
   "metadata": {},
   "source": [
    "### Solve with Fixed gaps"
   ]
  },
  {
   "cell_type": "code",
   "execution_count": 6,
   "metadata": {},
   "outputs": [
    {
     "name": "stdout",
     "output_type": "stream",
     "text": [
      "Error: 4.160384385352303e-18\n"
     ]
    },
    {
     "data": {
      "text/html": [
       "<div>\n",
       "<style scoped>\n",
       "    .dataframe tbody tr th:only-of-type {\n",
       "        vertical-align: middle;\n",
       "    }\n",
       "\n",
       "    .dataframe tbody tr th {\n",
       "        vertical-align: top;\n",
       "    }\n",
       "\n",
       "    .dataframe thead th {\n",
       "        text-align: right;\n",
       "    }\n",
       "</style>\n",
       "<table border=\"1\" class=\"dataframe\">\n",
       "  <thead>\n",
       "    <tr style=\"text-align: right;\">\n",
       "      <th></th>\n",
       "      <th>A</th>\n",
       "      <th>B</th>\n",
       "      <th>C</th>\n",
       "      <th>D</th>\n",
       "      <th>Gap</th>\n",
       "    </tr>\n",
       "  </thead>\n",
       "  <tbody>\n",
       "    <tr>\n",
       "      <th>Autonomie</th>\n",
       "      <td>185.188751</td>\n",
       "      <td>148.188751</td>\n",
       "      <td>111.188751</td>\n",
       "      <td>74.188751</td>\n",
       "      <td>37.0</td>\n",
       "    </tr>\n",
       "    <tr>\n",
       "      <th>Exposition</th>\n",
       "      <td>150.407331</td>\n",
       "      <td>126.407331</td>\n",
       "      <td>102.407331</td>\n",
       "      <td>78.407331</td>\n",
       "      <td>24.0</td>\n",
       "    </tr>\n",
       "    <tr>\n",
       "      <th>Relations</th>\n",
       "      <td>169.366276</td>\n",
       "      <td>134.366276</td>\n",
       "      <td>99.366276</td>\n",
       "      <td>64.366276</td>\n",
       "      <td>35.0</td>\n",
       "    </tr>\n",
       "    <tr>\n",
       "      <th>Technicité</th>\n",
       "      <td>149.037643</td>\n",
       "      <td>104.037643</td>\n",
       "      <td>59.037643</td>\n",
       "      <td>14.037643</td>\n",
       "      <td>45.0</td>\n",
       "    </tr>\n",
       "  </tbody>\n",
       "</table>\n",
       "</div>"
      ],
      "text/plain": [
       "                     A           B           C          D   Gap\n",
       "Autonomie   185.188751  148.188751  111.188751  74.188751  37.0\n",
       "Exposition  150.407331  126.407331  102.407331  78.407331  24.0\n",
       "Relations   169.366276  134.366276   99.366276  64.366276  35.0\n",
       "Technicité  149.037643  104.037643   59.037643  14.037643  45.0"
      ]
     },
     "execution_count": 6,
     "metadata": {},
     "output_type": "execute_result"
    }
   ],
   "source": [
    "weights_sol, obj = mod.solve_model(\n",
    "    skills=profiles.loc[cst.SKILLS],\n",
    "    salaries=profiles.loc[cst.SLRY],\n",
    "    levels=cst.LEVELS,\n",
    "    ipopt_path=IPOPT_PATH,\n",
    "    fix_gaps={cst.TECH: 45}\n",
    ")\n",
    "print(f\"Error: {obj}\")\n",
    "weights_sol"
   ]
  },
  {
   "cell_type": "markdown",
   "metadata": {},
   "source": [
    "### Solve with fixed levels"
   ]
  },
  {
   "cell_type": "code",
   "execution_count": 7,
   "metadata": {},
   "outputs": [
    {
     "name": "stdout",
     "output_type": "stream",
     "text": [
      "Error: 5.461642794026597e-19\n"
     ]
    },
    {
     "data": {
      "text/html": [
       "<div>\n",
       "<style scoped>\n",
       "    .dataframe tbody tr th:only-of-type {\n",
       "        vertical-align: middle;\n",
       "    }\n",
       "\n",
       "    .dataframe tbody tr th {\n",
       "        vertical-align: top;\n",
       "    }\n",
       "\n",
       "    .dataframe thead th {\n",
       "        text-align: right;\n",
       "    }\n",
       "</style>\n",
       "<table border=\"1\" class=\"dataframe\">\n",
       "  <thead>\n",
       "    <tr style=\"text-align: right;\">\n",
       "      <th></th>\n",
       "      <th>A</th>\n",
       "      <th>B</th>\n",
       "      <th>C</th>\n",
       "      <th>D</th>\n",
       "      <th>Gap</th>\n",
       "    </tr>\n",
       "  </thead>\n",
       "  <tbody>\n",
       "    <tr>\n",
       "      <th>Autonomie</th>\n",
       "      <td>161.0</td>\n",
       "      <td>124.000000</td>\n",
       "      <td>87.000000</td>\n",
       "      <td>50.0</td>\n",
       "      <td>37.000000</td>\n",
       "    </tr>\n",
       "    <tr>\n",
       "      <th>Exposition</th>\n",
       "      <td>153.0</td>\n",
       "      <td>118.666667</td>\n",
       "      <td>84.333333</td>\n",
       "      <td>50.0</td>\n",
       "      <td>34.333333</td>\n",
       "    </tr>\n",
       "    <tr>\n",
       "      <th>Relations</th>\n",
       "      <td>155.0</td>\n",
       "      <td>120.000000</td>\n",
       "      <td>85.000000</td>\n",
       "      <td>50.0</td>\n",
       "      <td>35.000000</td>\n",
       "    </tr>\n",
       "    <tr>\n",
       "      <th>Technicité</th>\n",
       "      <td>231.5</td>\n",
       "      <td>171.000000</td>\n",
       "      <td>110.500000</td>\n",
       "      <td>50.0</td>\n",
       "      <td>60.500000</td>\n",
       "    </tr>\n",
       "  </tbody>\n",
       "</table>\n",
       "</div>"
      ],
      "text/plain": [
       "                A           B           C     D        Gap\n",
       "Autonomie   161.0  124.000000   87.000000  50.0  37.000000\n",
       "Exposition  153.0  118.666667   84.333333  50.0  34.333333\n",
       "Relations   155.0  120.000000   85.000000  50.0  35.000000\n",
       "Technicité  231.5  171.000000  110.500000  50.0  60.500000"
      ]
     },
     "execution_count": 7,
     "metadata": {},
     "output_type": "execute_result"
    }
   ],
   "source": [
    "weights_sol, obj = mod.solve_model(\n",
    "    skills=profiles.loc[cst.SKILLS],\n",
    "    salaries=profiles.loc[cst.SLRY],\n",
    "    levels=cst.LEVELS,\n",
    "    ipopt_path=IPOPT_PATH,\n",
    "    fix_levels={(skl, cst.LVD): 50 for skl in cst.SKILLS}\n",
    ")\n",
    "print(f\"Error: {obj}\")\n",
    "weights_sol"
   ]
  },
  {
   "cell_type": "code",
   "execution_count": null,
   "metadata": {},
   "outputs": [],
   "source": []
  }
 ],
 "metadata": {
  "kernelspec": {
   "display_name": ".venv",
   "language": "python",
   "name": "python3"
  },
  "language_info": {
   "codemirror_mode": {
    "name": "ipython",
    "version": 3
   },
   "file_extension": ".py",
   "mimetype": "text/x-python",
   "name": "python",
   "nbconvert_exporter": "python",
   "pygments_lexer": "ipython3",
   "version": "3.12.6"
  }
 },
 "nbformat": 4,
 "nbformat_minor": 2
}
