{
 "cells": [
  {
   "cell_type": "code",
   "execution_count": 63,
   "metadata": {},
   "outputs": [],
   "source": [
    "from typing import Union, List\n",
    "from pathlib import Path\n",
    "\n",
    "import pandas as pd\n",
    "\n",
    "import pyomo.environ as pyo\n",
    "from pyomo.core.base.var import IndexedVar\n",
    "\n",
    "import src.constants as cst"
   ]
  },
  {
   "cell_type": "code",
   "execution_count": 2,
   "metadata": {},
   "outputs": [
    {
     "data": {
      "text/html": [
       "<div>\n",
       "<style scoped>\n",
       "    .dataframe tbody tr th:only-of-type {\n",
       "        vertical-align: middle;\n",
       "    }\n",
       "\n",
       "    .dataframe tbody tr th {\n",
       "        vertical-align: top;\n",
       "    }\n",
       "\n",
       "    .dataframe thead th {\n",
       "        text-align: right;\n",
       "    }\n",
       "</style>\n",
       "<table border=\"1\" class=\"dataframe\">\n",
       "  <thead>\n",
       "    <tr style=\"text-align: right;\">\n",
       "      <th></th>\n",
       "      <th>Clément</th>\n",
       "      <th>Maxence</th>\n",
       "      <th>Josiane</th>\n",
       "      <th>Jiminy</th>\n",
       "    </tr>\n",
       "  </thead>\n",
       "  <tbody>\n",
       "    <tr>\n",
       "      <th>Technicité</th>\n",
       "      <td>B</td>\n",
       "      <td>B</td>\n",
       "      <td>D</td>\n",
       "      <td>D</td>\n",
       "    </tr>\n",
       "    <tr>\n",
       "      <th>Autonomie</th>\n",
       "      <td>A</td>\n",
       "      <td>D</td>\n",
       "      <td>D</td>\n",
       "      <td>B</td>\n",
       "    </tr>\n",
       "    <tr>\n",
       "      <th>Exposition</th>\n",
       "      <td>D</td>\n",
       "      <td>D</td>\n",
       "      <td>A</td>\n",
       "      <td>A</td>\n",
       "    </tr>\n",
       "    <tr>\n",
       "      <th>Relations</th>\n",
       "      <td>C</td>\n",
       "      <td>D</td>\n",
       "      <td>B</td>\n",
       "      <td>A</td>\n",
       "    </tr>\n",
       "    <tr>\n",
       "      <th>Salaire</th>\n",
       "      <td>467</td>\n",
       "      <td>321</td>\n",
       "      <td>373</td>\n",
       "      <td>482</td>\n",
       "    </tr>\n",
       "  </tbody>\n",
       "</table>\n",
       "</div>"
      ],
      "text/plain": [
       "           Clément Maxence Josiane Jiminy\n",
       "Technicité       B       B       D      D\n",
       "Autonomie        A       D       D      B\n",
       "Exposition       D       D       A      A\n",
       "Relations        C       D       B      A\n",
       "Salaire        467     321     373    482"
      ]
     },
     "execution_count": 2,
     "metadata": {},
     "output_type": "execute_result"
    }
   ],
   "source": [
    "profiles = pd.DataFrame(\n",
    "    {\n",
    "        \"Clément\": {cst.TECH: cst.LVB, cst.AUT: cst.LVA, cst.EXP: cst.LVD, cst.REL: cst.LVC, cst.SLRY: 467},\n",
    "        \"Maxence\": {cst.TECH: cst.LVB, cst.AUT: cst.LVD, cst.EXP: cst.LVD, cst.REL: cst.LVD, cst.SLRY: 321},\n",
    "        \"Josiane\": {cst.TECH: cst.LVD, cst.AUT: cst.LVD, cst.EXP: cst.LVA, cst.REL: cst.LVB, cst.SLRY: 373},\n",
    "        \"Jiminy\": {cst.TECH: cst.LVD, cst.AUT: cst.LVB, cst.EXP: cst.LVA, cst.REL: cst.LVA, cst.SLRY: 482},\n",
    "    }\n",
    ")\n",
    "\n",
    "profiles"
   ]
  },
  {
   "cell_type": "code",
   "execution_count": 5,
   "metadata": {},
   "outputs": [
    {
     "data": {
      "text/html": [
       "<div>\n",
       "<style scoped>\n",
       "    .dataframe tbody tr th:only-of-type {\n",
       "        vertical-align: middle;\n",
       "    }\n",
       "\n",
       "    .dataframe tbody tr th {\n",
       "        vertical-align: top;\n",
       "    }\n",
       "\n",
       "    .dataframe thead th {\n",
       "        text-align: right;\n",
       "    }\n",
       "</style>\n",
       "<table border=\"1\" class=\"dataframe\">\n",
       "  <thead>\n",
       "    <tr style=\"text-align: right;\">\n",
       "      <th></th>\n",
       "      <th>Technicité</th>\n",
       "      <th>Autonomie</th>\n",
       "      <th>Exposition</th>\n",
       "      <th>Relations</th>\n",
       "    </tr>\n",
       "  </thead>\n",
       "  <tbody>\n",
       "    <tr>\n",
       "      <th>A</th>\n",
       "      <td>50</td>\n",
       "      <td>10</td>\n",
       "      <td>100</td>\n",
       "      <td>5</td>\n",
       "    </tr>\n",
       "    <tr>\n",
       "      <th>B</th>\n",
       "      <td>40</td>\n",
       "      <td>8</td>\n",
       "      <td>80</td>\n",
       "      <td>4</td>\n",
       "    </tr>\n",
       "    <tr>\n",
       "      <th>C</th>\n",
       "      <td>30</td>\n",
       "      <td>6</td>\n",
       "      <td>60</td>\n",
       "      <td>3</td>\n",
       "    </tr>\n",
       "    <tr>\n",
       "      <th>D</th>\n",
       "      <td>20</td>\n",
       "      <td>4</td>\n",
       "      <td>40</td>\n",
       "      <td>2</td>\n",
       "    </tr>\n",
       "  </tbody>\n",
       "</table>\n",
       "</div>"
      ],
      "text/plain": [
       "   Technicité  Autonomie  Exposition  Relations\n",
       "A          50         10         100          5\n",
       "B          40          8          80          4\n",
       "C          30          6          60          3\n",
       "D          20          4          40          2"
      ]
     },
     "execution_count": 5,
     "metadata": {},
     "output_type": "execute_result"
    }
   ],
   "source": [
    "weights = pd.DataFrame(\n",
    "    {\n",
    "        cst.TECH: {cst.LVA: 50, cst.LVB: 40, cst.LVC: 30, cst.LVD: 20},\n",
    "        cst.AUT: {cst.LVA: 10, cst.LVB: 8, cst.LVC: 6, cst.LVD: 4},\n",
    "        cst.EXP: {cst.LVA: 100, cst.LVB: 80, cst.LVC: 60, cst.LVD: 40},\n",
    "        cst.REL: {cst.LVA: 5, cst.LVB: 4, cst.LVC: 3, cst.LVD: 2},\n",
    "    }\n",
    ")\n",
    "\n",
    "weights"
   ]
  },
  {
   "cell_type": "markdown",
   "metadata": {},
   "source": [
    "### Model"
   ]
  },
  {
   "cell_type": "markdown",
   "metadata": {},
   "source": [
    "#### Set path to ipopt solver"
   ]
  },
  {
   "cell_type": "code",
   "execution_count": 44,
   "metadata": {},
   "outputs": [
    {
     "data": {
      "text/plain": [
       "WindowsPath('C:/msys64/mingw64/bin/ipopt.exe')"
      ]
     },
     "execution_count": 44,
     "metadata": {},
     "output_type": "execute_result"
    }
   ],
   "source": [
    "ipopt_path = Path.home().parent.parent / \"msys64\" / \"mingw64\" / \"bin\" / \"ipopt.exe\"\n",
    "ipopt_path"
   ]
  },
  {
   "cell_type": "markdown",
   "metadata": {},
   "source": [
    "#### Construct Model"
   ]
  },
  {
   "cell_type": "code",
   "execution_count": 62,
   "metadata": {},
   "outputs": [],
   "source": [
    "def compute_salary(\n",
    "    *,\n",
    "    profile: Union[dict, pd.Series],\n",
    "    weights: Union[IndexedVar, pd.DataFrame],\n",
    "    skills: List[str],\n",
    ") -> Union[float, pyo.Expression]:\n",
    "\n",
    "    index, cols = {}, {}\n",
    "    if isinstance(weights, pd.DataFrame):\n",
    "        index, cols = weights.index, weights.columns\n",
    "        # for indexation below\n",
    "        weights = weights.stack()\n",
    "    elif isinstance(weights, IndexedVar):\n",
    "        index, cols = zip(*list(weights.index_set()))\n",
    "    else:\n",
    "        raise ValueError(\"weights must be a pandas dataframe or a pyomo variable\")\n",
    "    index, cols = set(index), set(cols)\n",
    "\n",
    "    if set(skills) == cols:\n",
    "        return sum(weights[(profile[skl], skl)] for skl in skills)\n",
    "    elif set(skills) == set(index):\n",
    "        return sum(weights[(skl, profile[skl])] for skl in skills)\n",
    "    \n",
    "    raise ValueError(f\"Skils ({skills}) don't match weights index/columns\")\n",
    "\n",
    "\n",
    "def extract_gaps(weights_gap: IndexedVar) -> pd.Series:\n",
    "    \n",
    "    return pd.Series({idx: var.value for idx, var in weights_gap.items()})\n",
    "\n",
    "\n",
    "def extract_weights(weights: IndexedVar) -> pd.DataFrame:\n",
    "\n",
    "    return pd.Series({idx: var.value for idx, var in weights.items()}).unstack()\n",
    "\n",
    "\n",
    "def solve_model(\n",
    "    profiles: pd.DataFrame,\n",
    "    salaries: pd.Series,\n",
    "    skills: List[str],\n",
    "    levels: List[str],\n",
    "):\n",
    "\n",
    "    model = pyo.ConcreteModel()\n",
    "    model.weights = pyo.Var(skills, levels, within=pyo.NonNegativeReals)\n",
    "    model.weights_gap = pyo.Var(skills, within=pyo.NonNegativeReals)\n",
    "\n",
    "    skill_gaps = {}\n",
    "    for skl in skills:\n",
    "        for lv1, lv2 in zip(levels[:-1], levels[1:]):\n",
    "            expr = model.weights[(skl, lv1)] - model.weights[(skl, lv2)] == model.weights_gap[skl]\n",
    "            skill_gaps[(skl, lv1, lv2)] = expr\n",
    "\n",
    "    model.skill_gaps_constraint = pyo.Constraint(skill_gaps.keys(), expr=skill_gaps)\n",
    "\n",
    "    # Objectif = somme des erreurs au carré\n",
    "    objexpr = sum(\n",
    "        (compute_salary(profile=val[skills], weights=model.weights, skills=skills) - salaries[per]) ** 2\n",
    "        for per, val in profiles.items()\n",
    "    )\n",
    "\n",
    "    model.obj = pyo.Objective(expr=objexpr, sense=pyo.minimize)\n",
    "\n",
    "    solver = pyo.SolverFactory(\"ipopt\", executable=ipopt_path)\n",
    "    solver.solve(model)\n",
    "\n",
    "    print(f\"Error: {model.obj()}\")\n",
    "\n",
    "    weights_gap = extract_gaps(model.weights_gap)\n",
    "    weights = extract_gaps(model.weights)\n",
    "\n",
    "    return pd.concat([weights, weights_gap.rename(\"Gap\")], axis=1)"
   ]
  },
  {
   "cell_type": "code",
   "execution_count": null,
   "metadata": {},
   "outputs": [
    {
     "data": {
      "text/plain": [
       "1.783912940360237e-16"
      ]
     },
     "execution_count": 52,
     "metadata": {},
     "output_type": "execute_result"
    }
   ],
   "source": [
    "model = pyo.ConcreteModel()\n",
    "model.weights = pyo.Var(cst.SKILLS, cst.LEVELS, within=pyo.NonNegativeReals)\n",
    "model.weights_gap = pyo.Var(cst.SKILLS, within=pyo.NonNegativeReals)\n",
    "\n",
    "skill_gaps = {}\n",
    "for skl in cst.SKILLS:\n",
    "    for lv1, lv2 in zip(cst.LEVELS[:-1], cst.LEVELS[1:]):\n",
    "        expr = model.weights[(skl, lv1)] - model.weights[(skl, lv2)] == model.weights_gap[skl]\n",
    "        skill_gaps[(skl, lv1, lv2)] = expr\n",
    "\n",
    "model.skill_gaps_constraint = pyo.Constraint(skill_gaps.keys(), expr=skill_gaps)\n",
    "\n",
    "# Objectif = somme des erreurs au carré\n",
    "objexpr = sum(\n",
    "    (compute_salary(profile=val[cst.SKILLS], weights=model.weights) - val[cst.SLRY]) ** 2\n",
    "    for _, val in profiles.items()\n",
    ")\n",
    "\n",
    "model.obj = pyo.Objective(expr=objexpr, sense=pyo.minimize)\n",
    "\n",
    "solver = pyo.SolverFactory(\"ipopt\", executable=ipopt_path)\n",
    "solver.solve(model)\n",
    "\n",
    "model.obj()"
   ]
  },
  {
   "cell_type": "markdown",
   "metadata": {},
   "source": [
    "#### Extract Solutions"
   ]
  },
  {
   "cell_type": "code",
   "execution_count": 60,
   "metadata": {},
   "outputs": [
    {
     "data": {
      "text/plain": [
       "Technicité    10.897960\n",
       "Autonomie     37.000000\n",
       "Exposition     1.265307\n",
       "Relations     35.000000\n",
       "dtype: float64"
      ]
     },
     "execution_count": 60,
     "metadata": {},
     "output_type": "execute_result"
    }
   ],
   "source": [
    "gaps_sol = pd.Series(\n",
    "    {\n",
    "        idx: var.value for idx, var in model.weights_gap.items()\n",
    "    }\n",
    ")\n",
    "gaps_sol"
   ]
  },
  {
   "cell_type": "code",
   "execution_count": 61,
   "metadata": {},
   "outputs": [
    {
     "data": {
      "text/html": [
       "<div>\n",
       "<style scoped>\n",
       "    .dataframe tbody tr th:only-of-type {\n",
       "        vertical-align: middle;\n",
       "    }\n",
       "\n",
       "    .dataframe tbody tr th {\n",
       "        vertical-align: top;\n",
       "    }\n",
       "\n",
       "    .dataframe thead th {\n",
       "        text-align: right;\n",
       "    }\n",
       "</style>\n",
       "<table border=\"1\" class=\"dataframe\">\n",
       "  <thead>\n",
       "    <tr style=\"text-align: right;\">\n",
       "      <th></th>\n",
       "      <th>A</th>\n",
       "      <th>B</th>\n",
       "      <th>C</th>\n",
       "      <th>D</th>\n",
       "    </tr>\n",
       "  </thead>\n",
       "  <tbody>\n",
       "    <tr>\n",
       "      <th>Autonomie</th>\n",
       "      <td>163.762555</td>\n",
       "      <td>126.762555</td>\n",
       "      <td>89.762555</td>\n",
       "      <td>52.762555</td>\n",
       "    </tr>\n",
       "    <tr>\n",
       "      <th>Exposition</th>\n",
       "      <td>105.483944</td>\n",
       "      <td>104.218637</td>\n",
       "      <td>102.953331</td>\n",
       "      <td>101.688024</td>\n",
       "    </tr>\n",
       "    <tr>\n",
       "      <th>Relations</th>\n",
       "      <td>174.965871</td>\n",
       "      <td>139.965871</td>\n",
       "      <td>104.965871</td>\n",
       "      <td>69.965871</td>\n",
       "    </tr>\n",
       "    <tr>\n",
       "      <th>Technicité</th>\n",
       "      <td>107.481511</td>\n",
       "      <td>96.583551</td>\n",
       "      <td>85.685590</td>\n",
       "      <td>74.787630</td>\n",
       "    </tr>\n",
       "  </tbody>\n",
       "</table>\n",
       "</div>"
      ],
      "text/plain": [
       "                     A           B           C           D\n",
       "Autonomie   163.762555  126.762555   89.762555   52.762555\n",
       "Exposition  105.483944  104.218637  102.953331  101.688024\n",
       "Relations   174.965871  139.965871  104.965871   69.965871\n",
       "Technicité  107.481511   96.583551   85.685590   74.787630"
      ]
     },
     "execution_count": 61,
     "metadata": {},
     "output_type": "execute_result"
    }
   ],
   "source": [
    "weights_sol = pd.Series(\n",
    "    {\n",
    "        idx: var.value for idx, var in model.weights.items()\n",
    "    }\n",
    ").unstack()\n",
    "weights_sol"
   ]
  },
  {
   "cell_type": "markdown",
   "metadata": {},
   "source": [
    "### Check"
   ]
  },
  {
   "cell_type": "code",
   "execution_count": 57,
   "metadata": {},
   "outputs": [
    {
     "data": {
      "text/plain": [
       "Clément    467.0\n",
       "Maxence    321.0\n",
       "Josiane    373.0\n",
       "Jiminy     482.0\n",
       "dtype: float64"
      ]
     },
     "execution_count": 57,
     "metadata": {},
     "output_type": "execute_result"
    }
   ],
   "source": [
    "pd.Series(\n",
    "    {\n",
    "        per: compute_salary(profile=val[cst.SKILLS], weights=weights_sol)\n",
    "        for per, val in profiles.items()\n",
    "    }\n",
    ")"
   ]
  },
  {
   "cell_type": "code",
   "execution_count": 58,
   "metadata": {},
   "outputs": [
    {
     "data": {
      "text/html": [
       "<div>\n",
       "<style scoped>\n",
       "    .dataframe tbody tr th:only-of-type {\n",
       "        vertical-align: middle;\n",
       "    }\n",
       "\n",
       "    .dataframe tbody tr th {\n",
       "        vertical-align: top;\n",
       "    }\n",
       "\n",
       "    .dataframe thead th {\n",
       "        text-align: right;\n",
       "    }\n",
       "</style>\n",
       "<table border=\"1\" class=\"dataframe\">\n",
       "  <thead>\n",
       "    <tr style=\"text-align: right;\">\n",
       "      <th></th>\n",
       "      <th>Clément</th>\n",
       "      <th>Maxence</th>\n",
       "      <th>Josiane</th>\n",
       "      <th>Jiminy</th>\n",
       "    </tr>\n",
       "  </thead>\n",
       "  <tbody>\n",
       "    <tr>\n",
       "      <th>Technicité</th>\n",
       "      <td>B</td>\n",
       "      <td>B</td>\n",
       "      <td>D</td>\n",
       "      <td>D</td>\n",
       "    </tr>\n",
       "    <tr>\n",
       "      <th>Autonomie</th>\n",
       "      <td>A</td>\n",
       "      <td>D</td>\n",
       "      <td>D</td>\n",
       "      <td>B</td>\n",
       "    </tr>\n",
       "    <tr>\n",
       "      <th>Exposition</th>\n",
       "      <td>D</td>\n",
       "      <td>D</td>\n",
       "      <td>A</td>\n",
       "      <td>A</td>\n",
       "    </tr>\n",
       "    <tr>\n",
       "      <th>Relations</th>\n",
       "      <td>C</td>\n",
       "      <td>D</td>\n",
       "      <td>B</td>\n",
       "      <td>A</td>\n",
       "    </tr>\n",
       "    <tr>\n",
       "      <th>Salaire</th>\n",
       "      <td>467</td>\n",
       "      <td>321</td>\n",
       "      <td>373</td>\n",
       "      <td>482</td>\n",
       "    </tr>\n",
       "  </tbody>\n",
       "</table>\n",
       "</div>"
      ],
      "text/plain": [
       "           Clément Maxence Josiane Jiminy\n",
       "Technicité       B       B       D      D\n",
       "Autonomie        A       D       D      B\n",
       "Exposition       D       D       A      A\n",
       "Relations        C       D       B      A\n",
       "Salaire        467     321     373    482"
      ]
     },
     "execution_count": 58,
     "metadata": {},
     "output_type": "execute_result"
    }
   ],
   "source": [
    "profiles"
   ]
  },
  {
   "cell_type": "code",
   "execution_count": null,
   "metadata": {},
   "outputs": [],
   "source": []
  }
 ],
 "metadata": {
  "kernelspec": {
   "display_name": ".venv",
   "language": "python",
   "name": "python3"
  },
  "language_info": {
   "codemirror_mode": {
    "name": "ipython",
    "version": 3
   },
   "file_extension": ".py",
   "mimetype": "text/x-python",
   "name": "python",
   "nbconvert_exporter": "python",
   "pygments_lexer": "ipython3",
   "version": "3.12.6"
  }
 },
 "nbformat": 4,
 "nbformat_minor": 2
}
